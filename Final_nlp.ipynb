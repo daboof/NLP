{
 "cells": [
  {
   "cell_type": "code",
   "execution_count": 14,
   "id": "76c1c9e1",
   "metadata": {},
   "outputs": [],
   "source": [
    "import nltk\n",
    "from nltk.corpus import stopwords\n",
    "from nltk.tokenize import word_tokenize, sent_tokenize\n",
    "from nltk.probability import FreqDist\n",
    "import string\n",
    "import matplotlib.pyplot as plt\n",
    "import sklearn.feature_extraction\n",
    "from sklearn.feature_extraction.text import TfidfVectorizer"
   ]
  },
  {
   "cell_type": "code",
   "execution_count": 15,
   "id": "da31aa58",
   "metadata": {},
   "outputs": [],
   "source": [
    "text='''Edge on systems reveal the properties of disk galaxies as a function of height, z, above the plane. Four local edge-on galaxies, that are close enough to have been resolved into stars by the Hubble Space Telescope, show thick disks, composed of a red stellar population, which is old and relatively metal rich. Color gradients, ∆(V-I)/∆z, are zero or slightly positive. Favored models may have an explicit thick disk formation phase.\n",
    "'''\n",
    "text=text.lower()\n",
    "text = ' '.join([word for word in text.split() if word not in (stopwords.words('english'))])"
   ]
  },
  {
   "cell_type": "code",
   "execution_count": 16,
   "id": "3a2dd416",
   "metadata": {},
   "outputs": [
    {
     "name": "stderr",
     "output_type": "stream",
     "text": [
      "[nltk_data] Downloading package stopwords to /home/dev23/nltk_data...\n",
      "[nltk_data]   Package stopwords is already up-to-date!\n",
      "[nltk_data] Downloading package punkt to /home/dev23/nltk_data...\n",
      "[nltk_data]   Package punkt is already up-to-date!\n"
     ]
    },
    {
     "data": {
      "text/plain": [
       "True"
      ]
     },
     "execution_count": 16,
     "metadata": {},
     "output_type": "execute_result"
    }
   ],
   "source": [
    "nltk.download('stopwords')\n",
    "nltk.download('punkt')"
   ]
  },
  {
   "cell_type": "code",
   "execution_count": 17,
   "id": "ba15fefd",
   "metadata": {},
   "outputs": [
    {
     "data": {
      "text/plain": [
       "['edge systems reveal properties disk galaxies function height, z, plane.',\n",
       " 'four local edge-on galaxies, close enough resolved stars hubble space telescope, show thick disks, composed red stellar population, old relatively metal rich.',\n",
       " 'color gradients, ∆(v-i)/∆z, zero slightly positive.',\n",
       " 'favored models may explicit thick disk formation phase.']"
      ]
     },
     "execution_count": 17,
     "metadata": {},
     "output_type": "execute_result"
    }
   ],
   "source": [
    "text=text.lower()\n",
    "text = ' '.join([word for word in text.split() if word not in (stopwords.words('english'))])\n",
    "sents=sent_tokenize(text)\n",
    "# for i in range(len(sents)):\n",
    "#     translator=str.maketrans('','',string.punctuation)\n",
    "#     sents[i]=sents[i].translate(translator)\n",
    "    \n",
    "sents"
   ]
  },
  {
   "cell_type": "code",
   "execution_count": 18,
   "id": "004361a1",
   "metadata": {},
   "outputs": [],
   "source": [
    "def calculate_tfidf_scores(texts):\n",
    "    vectorizer = TfidfVectorizer()\n",
    "    tfidf_matrix = vectorizer.fit_transform(texts)\n",
    "    feature_names = vectorizer.get_feature_names_out()\n",
    "    tfidf_scores = tfidf_matrix.toarray()\n",
    "    return feature_names, tfidf_scores\n",
    "\n",
    "def sentence_scoring(text):\n",
    "    sentences = sent_tokenize(text)\n",
    "    word_scores = {}\n",
    "\n",
    "    # Compute TF-IDF scores for words\n",
    "    feature_names, tfidf_scores = calculate_tfidf_scores([text])\n",
    "    for word, score in zip(feature_names, tfidf_scores[0]):\n",
    "        word_scores[word] = score\n",
    "\n",
    "    sentence_scores = {}\n",
    "\n",
    "    # Compute scores for each sentence\n",
    "    for sentence in sentences:\n",
    "        words = word_tokenize(sentence.lower())\n",
    "        score = sum(word_scores.get(word, 0) for word in words) / len(words)\n",
    "        sentence_scores[sentence]=score\n",
    "\n",
    "    # Sort sentences based on scores in descending order\n",
    "#     sentence_scores.sort(key=lambda x: x[1], reverse=True)\n",
    "\n",
    "    return sentence_scores\n",
    "\n",
    "#function to find key from dictvalue\n",
    "def findkey(dictionary, value):\n",
    "    for key, val in dictionary.items():\n",
    "        if val == value:\n",
    "            return key\n",
    "    return None  # Value not found"
   ]
  },
  {
   "cell_type": "code",
   "execution_count": 19,
   "id": "039b5ce1",
   "metadata": {},
   "outputs": [
    {
     "data": {
      "text/plain": [
       "{'edge systems reveal properties disk galaxies function height, z, plane.': 0.12679436672186678,\n",
       " 'four local edge-on galaxies, close enough resolved stars hubble space telescope, show thick disks, composed red stellar population, old relatively metal rich.': 0.11701085077110553,\n",
       " 'color gradients, ∆(v-i)/∆z, zero slightly positive.': 0.05283098613411116,\n",
       " 'favored models may explicit thick disk formation phase.': 0.1526228488318767}"
      ]
     },
     "execution_count": 19,
     "metadata": {},
     "output_type": "execute_result"
    }
   ],
   "source": [
    "sentence_scoring(text)"
   ]
  },
  {
   "cell_type": "code",
   "execution_count": 20,
   "id": "9acac478",
   "metadata": {},
   "outputs": [],
   "source": [
    "freqdict=sentence_scoring(text)"
   ]
  },
  {
   "cell_type": "code",
   "execution_count": 21,
   "id": "55151d5b",
   "metadata": {},
   "outputs": [
    {
     "name": "stdout",
     "output_type": "stream",
     "text": [
      "[0.1526228488318767, 0.12679436672186678, 0.11701085077110553, 0.05283098613411116]\n"
     ]
    }
   ],
   "source": [
    "scoreset=[]\n",
    "for sent in sents:\n",
    "    scoreset.append(freqdict[sent])\n",
    "scoreset=sorted(scoreset,reverse=True)\n",
    "print(scoreset)"
   ]
  },
  {
   "cell_type": "code",
   "execution_count": 22,
   "id": "cefc91a5",
   "metadata": {},
   "outputs": [
    {
     "name": "stdout",
     "output_type": "stream",
     "text": [
      "favored models may explicit thick disk formation phase. edge systems reveal properties disk galaxies function height, z, plane. four local edge-on galaxies, close enough resolved stars hubble space telescope, show thick disks, composed red stellar population, old relatively metal rich. color gradients, ∆(v-i)/∆z, zero slightly positive.\n"
     ]
    }
   ],
   "source": [
    "summaryset=[]\n",
    "for i in scoreset:\n",
    "    summaryset.append(findkey(freqdict,i))\n",
    "summaryfinal=' '.join(summaryset)\n",
    "print(summaryfinal)"
   ]
  },
  {
   "cell_type": "code",
   "execution_count": 23,
   "id": "d203673d",
   "metadata": {},
   "outputs": [],
   "source": [
    "fruits={1:'apple',2:'mango',3:'cat'}"
   ]
  },
  {
   "cell_type": "code",
   "execution_count": 24,
   "id": "9795aae8",
   "metadata": {},
   "outputs": [],
   "source": [
    "lst=[]\n",
    "for i in range(1,4):\n",
    "    lst.append(fruits[i])"
   ]
  },
  {
   "cell_type": "code",
   "execution_count": 25,
   "id": "0f805d7e",
   "metadata": {},
   "outputs": [
    {
     "data": {
      "text/plain": [
       "1"
      ]
     },
     "execution_count": 25,
     "metadata": {},
     "output_type": "execute_result"
    }
   ],
   "source": [
    "findkey(fruits,'apple')"
   ]
  },
  {
   "cell_type": "code",
   "execution_count": null,
   "id": "76ddd590",
   "metadata": {},
   "outputs": [],
   "source": []
  },
  {
   "cell_type": "code",
   "execution_count": null,
   "id": "a2007076",
   "metadata": {},
   "outputs": [],
   "source": []
  },
  {
   "cell_type": "code",
   "execution_count": null,
   "id": "375a57a4",
   "metadata": {},
   "outputs": [],
   "source": []
  }
 ],
 "metadata": {
  "kernelspec": {
   "display_name": "MY ENVIRONMENT",
   "language": "python",
   "name": "my_project"
  },
  "language_info": {
   "codemirror_mode": {
    "name": "ipython",
    "version": 3
   },
   "file_extension": ".py",
   "mimetype": "text/x-python",
   "name": "python",
   "nbconvert_exporter": "python",
   "pygments_lexer": "ipython3",
   "version": "3.10.6"
  }
 },
 "nbformat": 4,
 "nbformat_minor": 5
}
