{
 "cells": [
  {
   "cell_type": "code",
   "execution_count": 1,
   "id": "679af123",
   "metadata": {},
   "outputs": [
    {
     "name": "stderr",
     "output_type": "stream",
     "text": [
      "[nltk_data] Downloading package stopwords to\n",
      "[nltk_data]     C:\\Users\\debu2\\AppData\\Roaming\\nltk_data...\n",
      "[nltk_data]   Package stopwords is already up-to-date!\n"
     ]
    }
   ],
   "source": [
    "import nltk\n",
    "from nltk import word_tokenize\n",
    "from nltk.util import ngrams\n",
    "from nltk.corpus import stopwords\n",
    "nltk.download(\"stopwords\")\n",
    "import numpy as np"
   ]
  },
  {
   "cell_type": "code",
   "execution_count": 2,
   "id": "4eb65efa",
   "metadata": {},
   "outputs": [],
   "source": [
    "text=''' What began as a push from the Kremlin to fund its invasion of Ukraine has now turned into a pull from Asian economies anxious about making sure their power generators are supplied with enough fuel in what could be the hottest year on record.\n",
    "\n",
    "“The worst place to be right now amid these searing temperatures is South Asia, especially poorer nations like Pakistan or Bangladesh,” said John Driscoll, director of JTD Energy Services Pte in Singapore.\n",
    "“When you can’t even take care of your people’s basic needs, it’s very hard to care too much about international affairs.”\n",
    "'''"
   ]
  },
  {
   "cell_type": "code",
   "execution_count": 3,
   "id": "c8245d0b",
   "metadata": {},
   "outputs": [
    {
     "name": "stdout",
     "output_type": "stream",
     "text": [
      "['what', 'began', 'as', 'a', 'push', 'from', 'the', 'kremlin', 'to', 'fund', 'its', 'invasion', 'of', 'ukraine', 'has', 'now', 'turned', 'into', 'a', 'pull', 'from', 'asian', 'economies', 'anxious', 'about', 'making', 'sure', 'their', 'power', 'generators', 'are', 'supplied', 'with', 'enough', 'fuel', 'in', 'what', 'could', 'be', 'the', 'hottest', 'year', 'on', 'record', '.', '“', 'the', 'worst', 'place', 'to', 'be', 'right', 'now', 'amid', 'these', 'searing', 'temperatures', 'is', 'south', 'asia', ',', 'especially', 'poorer', 'nations', 'like', 'pakistan', 'or', 'bangladesh', ',', '”', 'said', 'john', 'driscoll', ',', 'director', 'of', 'jtd', 'energy', 'services', 'pte', 'in', 'singapore', '.', '“', 'when', 'you', 'can', '’', 't', 'even', 'take', 'care', 'of', 'your', 'people', '’', 's', 'basic', 'needs', ',', 'it', '’', 's', 'very', 'hard', 'to', 'care', 'too', 'much', 'about', 'international', 'affairs', '.', '”']\n"
     ]
    }
   ],
   "source": [
    "tokens=word_tokenize(text.lower())\n",
    "print(tokens)"
   ]
  },
  {
   "cell_type": "code",
   "execution_count": 4,
   "id": "4f57845a",
   "metadata": {},
   "outputs": [],
   "source": [
    "stopwords=nltk.corpus.stopwords.words(\"english\")\n",
    "punctuation=[\".\",\",\",\"!\",\"?\"]\n",
    "filtered_tokens=[]\n",
    "for token in tokens:\n",
    "    if token not in stopwords and punctuation:\n",
    "        filtered_tokens.append(token)"
   ]
  },
  {
   "cell_type": "code",
   "execution_count": 5,
   "id": "512954cf",
   "metadata": {},
   "outputs": [
    {
     "name": "stdout",
     "output_type": "stream",
     "text": [
      "['began', 'push', 'kremlin', 'fund', 'invasion', 'ukraine', 'turned', 'pull', 'asian', 'economies', 'anxious', 'making', 'sure', 'power', 'generators', 'supplied', 'enough', 'fuel', 'could', 'hottest', 'year', 'record', '.', '“', 'worst', 'place', 'right', 'amid', 'searing', 'temperatures', 'south', 'asia', ',', 'especially', 'poorer', 'nations', 'like', 'pakistan', 'bangladesh', ',', '”', 'said', 'john', 'driscoll', ',', 'director', 'jtd', 'energy', 'services', 'pte', 'singapore', '.', '“', '’', 'even', 'take', 'care', 'people', '’', 'basic', 'needs', ',', '’', 'hard', 'care', 'much', 'international', 'affairs', '.', '”']\n",
      "70\n"
     ]
    }
   ],
   "source": [
    "print(filtered_tokens)\n",
    "print(len(filtered_tokens))"
   ]
  },
  {
   "cell_type": "code",
   "execution_count": null,
   "id": "746957c4",
   "metadata": {},
   "outputs": [],
   "source": []
  }
 ],
 "metadata": {
  "kernelspec": {
   "display_name": "Python 3 (ipykernel)",
   "language": "python",
   "name": "python3"
  },
  "language_info": {
   "codemirror_mode": {
    "name": "ipython",
    "version": 3
   },
   "file_extension": ".py",
   "mimetype": "text/x-python",
   "name": "python",
   "nbconvert_exporter": "python",
   "pygments_lexer": "ipython3",
   "version": "3.10.9"
  }
 },
 "nbformat": 4,
 "nbformat_minor": 5
}
