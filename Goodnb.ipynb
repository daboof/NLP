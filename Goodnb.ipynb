{
 "cells": [
  {
   "cell_type": "code",
   "execution_count": 16,
   "id": "cb30758b",
   "metadata": {},
   "outputs": [],
   "source": [
    "import nltk\n",
    "from nltk.corpus import stopwords\n",
    "from nltk.tokenize import word_tokenize, sent_tokenize"
   ]
  },
  {
   "cell_type": "code",
   "execution_count": 17,
   "id": "fc32c400",
   "metadata": {},
   "outputs": [],
   "source": [
    "text = \"\"\"Farming efficiency is one of the most important factors determining profitability and viability in general of the agribusiness. The aim of this paper is to analyze the dynamics of efficiency in Lithuanian family farms by the means of the bootstrapped Data Envelopment Analysis in order to propose certain guidelines for inefficiency mitigation. Stochastic kernels are then employed to estimate densities of the efficiency scores for different farming types. The research covers years 2004– 2009 and is based on farm-level Farm Accountancy Data Network (FADN) data. The stochastic kernel for livestock farms exhibited a small range of efficiency scores. Therefore, these farms achieved a higher convergence as well as a higher average TE from the standpoint of the analyzed farming types. The mixed farms, though, were peculiar both a sort of bi-modal distribution of their efficiency scores. \"\"\""
   ]
  },
  {
   "cell_type": "code",
   "execution_count": 18,
   "id": "73fd89fe",
   "metadata": {},
   "outputs": [],
   "source": [
    "stopWords = set(stopwords.words(\"english\"))\n",
    "words = word_tokenize(text)"
   ]
  },
  {
   "cell_type": "code",
   "execution_count": 19,
   "id": "105b272f",
   "metadata": {},
   "outputs": [],
   "source": [
    "freqTable = dict()\n",
    "\n",
    "for word in words:\n",
    "    word = word.lower()\n",
    "    if word in stopWords:\n",
    "        continue\n",
    "    if word in freqTable:\n",
    "        freqTable[word] += 1\n",
    "    else:\n",
    "        freqTable[word] = 1"
   ]
  },
  {
   "cell_type": "code",
   "execution_count": 20,
   "id": "cb7d7a18",
   "metadata": {},
   "outputs": [],
   "source": [
    "sentences = sent_tokenize(text)\n",
    "sentenceValue = dict()"
   ]
  },
  {
   "cell_type": "code",
   "execution_count": 21,
   "id": "8f02cabf",
   "metadata": {},
   "outputs": [],
   "source": [
    "for sentence in sentences:\n",
    "    for word, freq in freqTable.items():\n",
    "        if word in sentence.lower():\n",
    "            if word in sentence.lower():\n",
    "                if sentence in sentenceValue:\n",
    "                    sentenceValue[sentence] += freq\n",
    "                else:\n",
    "                    sentenceValue[sentence] = freq\n"
   ]
  },
  {
   "cell_type": "code",
   "execution_count": 22,
   "id": "71e0eb81",
   "metadata": {},
   "outputs": [],
   "source": [
    "sumValues = 0\n",
    "for sentence in sentenceValue:\n",
    "    sumValues += sentenceValue[sentence]"
   ]
  },
  {
   "cell_type": "code",
   "execution_count": 25,
   "id": "dccab8d7",
   "metadata": {},
   "outputs": [],
   "source": [
    "\n",
    "average = int(sumValues / len(sentenceValue))"
   ]
  },
  {
   "cell_type": "code",
   "execution_count": 26,
   "id": "9a15a6b6",
   "metadata": {},
   "outputs": [],
   "source": [
    "summary = ''"
   ]
  },
  {
   "cell_type": "code",
   "execution_count": 27,
   "id": "1dd8712c",
   "metadata": {},
   "outputs": [],
   "source": [
    "for sentence in sentences:\n",
    "    if (sentence in sentenceValue) and (sentenceValue[sentence] > (1.2 * average)):\n",
    "        summary += \" \" + sentence"
   ]
  },
  {
   "cell_type": "code",
   "execution_count": 28,
   "id": "af6a46f2",
   "metadata": {},
   "outputs": [
    {
     "name": "stdout",
     "output_type": "stream",
     "text": [
      " The aim of this paper is to analyze the dynamics of efficiency in Lithuanian family farms by the means of the bootstrapped Data Envelopment Analysis in order to propose certain guidelines for inefficiency mitigation.\n"
     ]
    }
   ],
   "source": [
    "print(summary)"
   ]
  },
  {
   "cell_type": "code",
   "execution_count": null,
   "id": "2fc4884d",
   "metadata": {},
   "outputs": [],
   "source": []
  }
 ],
 "metadata": {
  "kernelspec": {
   "display_name": "MY ENVIRONMENT",
   "language": "python",
   "name": "my_project"
  },
  "language_info": {
   "codemirror_mode": {
    "name": "ipython",
    "version": 3
   },
   "file_extension": ".py",
   "mimetype": "text/x-python",
   "name": "python",
   "nbconvert_exporter": "python",
   "pygments_lexer": "ipython3",
   "version": "3.10.6"
  }
 },
 "nbformat": 4,
 "nbformat_minor": 5
}
